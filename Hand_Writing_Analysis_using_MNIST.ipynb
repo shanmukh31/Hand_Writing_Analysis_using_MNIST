{
 "cells": [
  {
   "cell_type": "code",
   "execution_count": 29,
   "metadata": {
    "id": "15wBbeGhnaUx"
   },
   "outputs": [],
   "source": [
    "#importing required libraries\n",
    "import tensorflow as tf\n",
    "import numpy as np\n",
    "import matplotlib.pyplot as plt"
   ]
  },
  {
   "cell_type": "code",
   "execution_count": 30,
   "metadata": {
    "colab": {
     "base_uri": "https://localhost:8080/"
    },
    "id": "zDKTFu-_oGhg",
    "outputId": "816b6c01-63bc-4f14-d2fd-f0d3ddddc664"
   },
   "outputs": [
    {
     "name": "stdout",
     "output_type": "stream",
     "text": [
      "x_train shape: (60000, 28, 28) y_train shape: (60000,) x_test shape: (10000, 28, 28) y_test shape: (10000,)\n"
     ]
    }
   ],
   "source": [
    "# Load the MNIST dataset, which contains images of handwritten digits (0-9), into training and testing sets.\n",
    "(x_train, y_train), (x_test, y_test) = tf.keras.datasets.mnist.load_data()\n",
    "# Print the shapes of the training and testing data for both images and labels.\n",
    "print(\"x_train shape:\", x_train.shape, \"y_train shape:\", y_train.shape,\"x_test shape:\", x_test.shape, \"y_test shape:\", y_test.shape)"
   ]
  },
  {
   "cell_type": "code",
   "execution_count": 31,
   "metadata": {
    "id": "OTdf1X8loRNp"
   },
   "outputs": [],
   "source": [
    "# Set the seed for NumPy's random number generator to 0, ensuring reproducibility of random values.\n",
    "np.random.seed(0)"
   ]
  },
  {
   "cell_type": "code",
   "execution_count": 32,
   "metadata": {
    "colab": {
     "base_uri": "https://localhost:8080/",
     "height": 443
    },
    "id": "dDAOJ_L5oRUc",
    "outputId": "d2239d53-3544-4c88-f3cc-7e4a38595701"
   },
   "outputs": [
    {
     "data": {
      "text/plain": [
       "<matplotlib.image.AxesImage at 0x7c2ec44ea650>"
      ]
     },
     "execution_count": 32,
     "metadata": {},
     "output_type": "execute_result"
    },
    {
     "data": {
      "image/png": "[encoded data removed]",
      "text/plain": [
       "<Figure size 640x480 with 1 Axes>"
      ]
     },
     "metadata": {},
     "output_type": "display_data"
    }
   ],
   "source": [
    "# Remove x-axis tick marks to simplify the display.\n",
    "plt.xticks([])\n",
    "# Remove y-axis tick marks to simplify the display.\n",
    "plt.yticks([])\n",
    "# Label the x-axis with the actual digit label of the second training sample from y_train.\n",
    "plt.xlabel([y_train[1]])\n",
    "# Display the second training image (from x_train) in grayscale (binary colormap).\n",
    "plt.imshow(x_train[1],cmap=plt.cm.binary)"
   ]
  },
  {
   "cell_type": "code",
   "execution_count": 33,
   "metadata": {
    "id": "AW7ti-0zoRX9"
   },
   "outputs": [],
   "source": [
    "# Convert training images to float32 type and scale pixel values to the range [0, 1].\n",
    "x_train = x_train.astype('float32') / 255\n",
    "# Convert test images to float32 type and scale pixel values to the range [0, 1].\n",
    "x_test = x_test.astype('float32') / 255"
   ]
  },
  {
   "cell_type": "code",
   "execution_count": 34,
   "metadata": {
    "colab": {
     "base_uri": "https://localhost:8080/",
     "height": 504
    },
    "id": "rXVPNyb6oRat",
    "outputId": "c727fa57-be84-4dbf-9c78-244e4639f48e"
   },
   "outputs": [
    {
     "name": "stderr",
     "output_type": "stream",
     "text": [
      "/usr/local/lib/python3.10/dist-packages/keras/src/layers/convolutional/base_conv.py:107: UserWarning: Do not pass an `input_shape`/`input_dim` argument to a layer. When using Sequential models, prefer using an `Input(shape)` object as the first layer in the model instead.\n",
      "  super().__init__(activity_regularizer=activity_regularizer, **kwargs)\n"
     ]
    },
    {
     "data": {
      "text/html": [
       "<pre style=\"white-space:pre;overflow-x:auto;line-height:normal;font-family:Menlo,'DejaVu Sans Mono',consolas,'Courier New',monospace\"><span style=\"font-weight: bold\">Model: \"sequential_1\"</span>\n",
       "</pre>\n"
      ],
      "text/plain": [
       "\u001b[1mModel: \"sequential_1\"\u001b[0m\n"
      ]
     },
     "metadata": {},
     "output_type": "display_data"
    },
    {
     "data": {
      "text/html": [
       "<pre style=\"white-space:pre;overflow-x:auto;line-height:normal;font-family:Menlo,'DejaVu Sans Mono',consolas,'Courier New',monospace\">┏━━━━━━━━━━━━━━━━━━━━━━━━━━━━━━━━━━━━━━┳━━━━━━━━━━━━━━━━━━━━━━━━━━━━━┳━━━━━━━━━━━━━━━━━┓\n",
       "┃<span style=\"font-weight: bold\"> Layer (type)                         </span>┃<span style=\"font-weight: bold\"> Output Shape                </span>┃<span style=\"font-weight: bold\">         Param # </span>┃\n",
       "┡━━━━━━━━━━━━━━━━━━━━━━━━━━━━━━━━━━━━━━╇━━━━━━━━━━━━━━━━━━━━━━━━━━━━━╇━━━━━━━━━━━━━━━━━┩\n",
       "│ conv2d_2 (<span style=\"color: #0087ff; text-decoration-color: #0087ff\">Conv2D</span>)                    │ (<span style=\"color: #00d7ff; text-decoration-color: #00d7ff\">None</span>, <span style=\"color: #00af00; text-decoration-color: #00af00\">28</span>, <span style=\"color: #00af00; text-decoration-color: #00af00\">28</span>, <span style=\"color: #00af00; text-decoration-color: #00af00\">64</span>)          │             <span style=\"color: #00af00; text-decoration-color: #00af00\">320</span> │\n",
       "├──────────────────────────────────────┼─────────────────────────────┼─────────────────┤\n",
       "│ max_pooling2d_2 (<span style=\"color: #0087ff; text-decoration-color: #0087ff\">MaxPooling2D</span>)       │ (<span style=\"color: #00d7ff; text-decoration-color: #00d7ff\">None</span>, <span style=\"color: #00af00; text-decoration-color: #00af00\">14</span>, <span style=\"color: #00af00; text-decoration-color: #00af00\">14</span>, <span style=\"color: #00af00; text-decoration-color: #00af00\">64</span>)          │               <span style=\"color: #00af00; text-decoration-color: #00af00\">0</span> │\n",
       "├──────────────────────────────────────┼─────────────────────────────┼─────────────────┤\n",
       "│ dropout_3 (<span style=\"color: #0087ff; text-decoration-color: #0087ff\">Dropout</span>)                  │ (<span style=\"color: #00d7ff; text-decoration-color: #00d7ff\">None</span>, <span style=\"color: #00af00; text-decoration-color: #00af00\">14</span>, <span style=\"color: #00af00; text-decoration-color: #00af00\">14</span>, <span style=\"color: #00af00; text-decoration-color: #00af00\">64</span>)          │               <span style=\"color: #00af00; text-decoration-color: #00af00\">0</span> │\n",
       "├──────────────────────────────────────┼─────────────────────────────┼─────────────────┤\n",
       "│ conv2d_3 (<span style=\"color: #0087ff; text-decoration-color: #0087ff\">Conv2D</span>)                    │ (<span style=\"color: #00d7ff; text-decoration-color: #00d7ff\">None</span>, <span style=\"color: #00af00; text-decoration-color: #00af00\">14</span>, <span style=\"color: #00af00; text-decoration-color: #00af00\">14</span>, <span style=\"color: #00af00; text-decoration-color: #00af00\">32</span>)          │           <span style=\"color: #00af00; text-decoration-color: #00af00\">8,224</span> │\n",
       "├──────────────────────────────────────┼─────────────────────────────┼─────────────────┤\n",
       "│ max_pooling2d_3 (<span style=\"color: #0087ff; text-decoration-color: #0087ff\">MaxPooling2D</span>)       │ (<span style=\"color: #00d7ff; text-decoration-color: #00d7ff\">None</span>, <span style=\"color: #00af00; text-decoration-color: #00af00\">7</span>, <span style=\"color: #00af00; text-decoration-color: #00af00\">7</span>, <span style=\"color: #00af00; text-decoration-color: #00af00\">32</span>)            │               <span style=\"color: #00af00; text-decoration-color: #00af00\">0</span> │\n",
       "├──────────────────────────────────────┼─────────────────────────────┼─────────────────┤\n",
       "│ dropout_4 (<span style=\"color: #0087ff; text-decoration-color: #0087ff\">Dropout</span>)                  │ (<span style=\"color: #00d7ff; text-decoration-color: #00d7ff\">None</span>, <span style=\"color: #00af00; text-decoration-color: #00af00\">7</span>, <span style=\"color: #00af00; text-decoration-color: #00af00\">7</span>, <span style=\"color: #00af00; text-decoration-color: #00af00\">32</span>)            │               <span style=\"color: #00af00; text-decoration-color: #00af00\">0</span> │\n",
       "├──────────────────────────────────────┼─────────────────────────────┼─────────────────┤\n",
       "│ flatten_1 (<span style=\"color: #0087ff; text-decoration-color: #0087ff\">Flatten</span>)                  │ (<span style=\"color: #00d7ff; text-decoration-color: #00d7ff\">None</span>, <span style=\"color: #00af00; text-decoration-color: #00af00\">1568</span>)                │               <span style=\"color: #00af00; text-decoration-color: #00af00\">0</span> │\n",
       "├──────────────────────────────────────┼─────────────────────────────┼─────────────────┤\n",
       "│ dense_2 (<span style=\"color: #0087ff; text-decoration-color: #0087ff\">Dense</span>)                      │ (<span style=\"color: #00d7ff; text-decoration-color: #00d7ff\">None</span>, <span style=\"color: #00af00; text-decoration-color: #00af00\">256</span>)                 │         <span style=\"color: #00af00; text-decoration-color: #00af00\">401,664</span> │\n",
       "├──────────────────────────────────────┼─────────────────────────────┼─────────────────┤\n",
       "│ dropout_5 (<span style=\"color: #0087ff; text-decoration-color: #0087ff\">Dropout</span>)                  │ (<span style=\"color: #00d7ff; text-decoration-color: #00d7ff\">None</span>, <span style=\"color: #00af00; text-decoration-color: #00af00\">256</span>)                 │               <span style=\"color: #00af00; text-decoration-color: #00af00\">0</span> │\n",
       "├──────────────────────────────────────┼─────────────────────────────┼─────────────────┤\n",
       "│ dense_3 (<span style=\"color: #0087ff; text-decoration-color: #0087ff\">Dense</span>)                      │ (<span style=\"color: #00d7ff; text-decoration-color: #00d7ff\">None</span>, <span style=\"color: #00af00; text-decoration-color: #00af00\">10</span>)                  │           <span style=\"color: #00af00; text-decoration-color: #00af00\">2,570</span> │\n",
       "└──────────────────────────────────────┴─────────────────────────────┴─────────────────┘\n",
       "</pre>\n"
      ],
      "text/plain": [
       "┏━━━━━━━━━━━━━━━━━━━━━━━━━━━━━━━━━━━━━━┳━━━━━━━━━━━━━━━━━━━━━━━━━━━━━┳━━━━━━━━━━━━━━━━━┓\n",
       "┃\u001b[1m \u001b[0m\u001b[1mLayer (type)                        \u001b[0m\u001b[1m \u001b[0m┃\u001b[1m \u001b[0m\u001b[1mOutput Shape               \u001b[0m\u001b[1m \u001b[0m┃\u001b[1m \u001b[0m\u001b[1m        Param #\u001b[0m\u001b[1m \u001b[0m┃\n",
       "┡━━━━━━━━━━━━━━━━━━━━━━━━━━━━━━━━━━━━━━╇━━━━━━━━━━━━━━━━━━━━━━━━━━━━━╇━━━━━━━━━━━━━━━━━┩\n",
       "│ conv2d_2 (\u001b[38;5;33mConv2D\u001b[0m)                    │ (\u001b[38;5;45mNone\u001b[0m, \u001b[38;5;34m28\u001b[0m, \u001b[38;5;34m28\u001b[0m, \u001b[38;5;34m64\u001b[0m)          │             \u001b[38;5;34m320\u001b[0m │\n",
       "├──────────────────────────────────────┼─────────────────────────────┼─────────────────┤\n",
       "│ max_pooling2d_2 (\u001b[38;5;33mMaxPooling2D\u001b[0m)       │ (\u001b[38;5;45mNone\u001b[0m, \u001b[38;5;34m14\u001b[0m, \u001b[38;5;34m14\u001b[0m, \u001b[38;5;34m64\u001b[0m)          │               \u001b[38;5;34m0\u001b[0m │\n",
       "├──────────────────────────────────────┼─────────────────────────────┼─────────────────┤\n",
       "│ dropout_3 (\u001b[38;5;33mDropout\u001b[0m)                  │ (\u001b[38;5;45mNone\u001b[0m, \u001b[38;5;34m14\u001b[0m, \u001b[38;5;34m14\u001b[0m, \u001b[38;5;34m64\u001b[0m)          │               \u001b[38;5;34m0\u001b[0m │\n",
       "├──────────────────────────────────────┼─────────────────────────────┼─────────────────┤\n",
       "│ conv2d_3 (\u001b[38;5;33mConv2D\u001b[0m)                    │ (\u001b[38;5;45mNone\u001b[0m, \u001b[38;5;34m14\u001b[0m, \u001b[38;5;34m14\u001b[0m, \u001b[38;5;34m32\u001b[0m)          │           \u001b[38;5;34m8,224\u001b[0m │\n",
       "├──────────────────────────────────────┼─────────────────────────────┼─────────────────┤\n",
       "│ max_pooling2d_3 (\u001b[38;5;33mMaxPooling2D\u001b[0m)       │ (\u001b[38;5;45mNone\u001b[0m, \u001b[38;5;34m7\u001b[0m, \u001b[38;5;34m7\u001b[0m, \u001b[38;5;34m32\u001b[0m)            │               \u001b[38;5;34m0\u001b[0m │\n",
       "├──────────────────────────────────────┼─────────────────────────────┼─────────────────┤\n",
       "│ dropout_4 (\u001b[38;5;33mDropout\u001b[0m)                  │ (\u001b[38;5;45mNone\u001b[0m, \u001b[38;5;34m7\u001b[0m, \u001b[38;5;34m7\u001b[0m, \u001b[38;5;34m32\u001b[0m)            │               \u001b[38;5;34m0\u001b[0m │\n",
       "├──────────────────────────────────────┼─────────────────────────────┼─────────────────┤\n",
       "│ flatten_1 (\u001b[38;5;33mFlatten\u001b[0m)                  │ (\u001b[38;5;45mNone\u001b[0m, \u001b[38;5;34m1568\u001b[0m)                │               \u001b[38;5;34m0\u001b[0m │\n",
       "├──────────────────────────────────────┼─────────────────────────────┼─────────────────┤\n",
       "│ dense_2 (\u001b[38;5;33mDense\u001b[0m)                      │ (\u001b[38;5;45mNone\u001b[0m, \u001b[38;5;34m256\u001b[0m)                 │         \u001b[38;5;34m401,664\u001b[0m │\n",
       "├──────────────────────────────────────┼─────────────────────────────┼─────────────────┤\n",
       "│ dropout_5 (\u001b[38;5;33mDropout\u001b[0m)                  │ (\u001b[38;5;45mNone\u001b[0m, \u001b[38;5;34m256\u001b[0m)                 │               \u001b[38;5;34m0\u001b[0m │\n",
       "├──────────────────────────────────────┼─────────────────────────────┼─────────────────┤\n",
       "│ dense_3 (\u001b[38;5;33mDense\u001b[0m)                      │ (\u001b[38;5;45mNone\u001b[0m, \u001b[38;5;34m10\u001b[0m)                  │           \u001b[38;5;34m2,570\u001b[0m │\n",
       "└──────────────────────────────────────┴─────────────────────────────┴─────────────────┘\n"
      ]
     },
     "metadata": {},
     "output_type": "display_data"
    },
    {
     "data": {
      "text/html": [
       "<pre style=\"white-space:pre;overflow-x:auto;line-height:normal;font-family:Menlo,'DejaVu Sans Mono',consolas,'Courier New',monospace\"><span style=\"font-weight: bold\"> Total params: </span><span style=\"color: #00af00; text-decoration-color: #00af00\">412,778</span> (1.57 MB)\n",
       "</pre>\n"
      ],
      "text/plain": [
       "\u001b[1m Total params: \u001b[0m\u001b[38;5;34m412,778\u001b[0m (1.57 MB)\n"
      ]
     },
     "metadata": {},
     "output_type": "display_data"
    },
    {
     "data": {
      "text/html": [
       "<pre style=\"white-space:pre;overflow-x:auto;line-height:normal;font-family:Menlo,'DejaVu Sans Mono',consolas,'Courier New',monospace\"><span style=\"font-weight: bold\"> Trainable params: </span><span style=\"color: #00af00; text-decoration-color: #00af00\">412,778</span> (1.57 MB)\n",
       "</pre>\n"
      ],
      "text/plain": [
       "\u001b[1m Trainable params: \u001b[0m\u001b[38;5;34m412,778\u001b[0m (1.57 MB)\n"
      ]
     },
     "metadata": {},
     "output_type": "display_data"
    },
    {
     "data": {
      "text/html": [
       "<pre style=\"white-space:pre;overflow-x:auto;line-height:normal;font-family:Menlo,'DejaVu Sans Mono',consolas,'Courier New',monospace\"><span style=\"font-weight: bold\"> Non-trainable params: </span><span style=\"color: #00af00; text-decoration-color: #00af00\">0</span> (0.00 B)\n",
       "</pre>\n"
      ],
      "text/plain": [
       "\u001b[1m Non-trainable params: \u001b[0m\u001b[38;5;34m0\u001b[0m (0.00 B)\n"
      ]
     },
     "metadata": {},
     "output_type": "display_data"
    }
   ],
   "source": [
    "# Initialize a Sequential model to build a feed-forward neural network layer by layer.\n",
    "model = tf.keras.Sequential()\n",
    "# Must define the input shape in the first layer of the neural network\n",
    "# Add a 2D convolutional layer with 64 filters, 2x2 kernel size, stride of 1x1, same padding, and ReLU activation. Input shape is (28, 28, 1) for grayscale images.\n",
    "model.add(tf.keras.layers.Conv2D(filters=64, kernel_size=(2,2),strides=(1, 1), padding='same', activation='relu', input_shape=(28,28,1)))\n",
    "# Add a max pooling layer with a 2x2 pool size to reduce the spatial dimensions by half.\n",
    "model.add(tf.keras.layers.MaxPooling2D(pool_size=(2,2)))\n",
    "# Add a dropout layer with a 30% dropout rate to prevent overfitting by randomly setting 30% of inputs to zero during training.\n",
    "model.add(tf.keras.layers.Dropout(0.3))\n",
    "# Add another 2D convolutional layer with 32 filters, 2x2 kernel size, stride of 1x1, same padding, and ReLU activation.\n",
    "model.add(tf.keras.layers.Conv2D(filters=32, kernel_size=(2,2),strides=(1, 1), padding='same', activation='relu'))\n",
    "# Add another max pooling layer with a 2x2 pool size to further reduce spatial dimensions.\n",
    "model.add(tf.keras.layers.MaxPooling2D(pool_size=(2,2)))\n",
    "# Add another dropout layer with a 30% dropout rate to prevent overfitting.\n",
    "model.add(tf.keras.layers.Dropout(0.3))\n",
    "# Flatten the output to create a 1D vector, which can be fed into the dense layers.\n",
    "model.add(tf.keras.layers.Flatten())\n",
    "# Add a dense (fully connected) layer with 256 units and ReLU activation to learn complex features.\n",
    "model.add(tf.keras.layers.Dense(256, activation='relu'))\n",
    "# Add a dropout layer with a 50% dropout rate to reduce overfitting in the fully connected layer.\n",
    "model.add(tf.keras.layers.Dropout(0.5))\n",
    "# Add the output layer with 10 units and softmax activation to classify the input into 10 categories (digits 0-9).\n",
    "model.add(tf.keras.layers.Dense(10, activation='softmax'))\n",
    "# Take a look at the model summary\n",
    "# Display the architecture and parameters of the model\n",
    "model.summary()"
   ]
  },
  {
   "cell_type": "code",
   "execution_count": 35,
   "metadata": {
    "id": "gaUn1hfroRdv"
   },
   "outputs": [],
   "source": [
    "# Compile the model, specifying the loss function, optimizer, and evaluation metric.\n",
    "model.compile(loss='sparse_categorical_crossentropy',\n",
    "             optimizer='adam',\n",
    "             metrics=['accuracy'])"
   ]
  },
  {
   "cell_type": "code",
   "execution_count": 36,
   "metadata": {
    "id": "3KYwePPHohtv"
   },
   "outputs": [],
   "source": [
    "#Reshape for CNN\n",
    "x_train = x_train.reshape(-1,28, 28,1)\n",
    "x_test = x_test.reshape(-1,28, 28, 1)"
   ]
  },
  {
   "cell_type": "markdown",
   "metadata": {
    "id": "xfVyiXjzqvqF"
   },
   "source": []
  },
  {
   "cell_type": "code",
   "execution_count": null,
   "metadata": {
    "colab": {
     "base_uri": "https://localhost:8080/"
    },
    "id": "I7QK31cUohwd",
    "outputId": "2c193c53-c68c-42ad-aec0-baf4e42ca03b"
   },
   "outputs": [
    {
     "name": "stdout",
     "output_type": "stream",
     "text": [
      "Epoch 1/20\n",
      "\u001b[1m700/700\u001b[0m \u001b[32m━━━━━━━━━━━━━━━━━━━━\u001b[0m\u001b[37m\u001b[0m \u001b[1m54s\u001b[0m 75ms/step - accuracy: 0.7600 - loss: 0.7152 - val_accuracy: 0.9657 - val_loss: 0.1135\n",
      "Epoch 2/20\n",
      "\u001b[1m700/700\u001b[0m \u001b[32m━━━━━━━━━━━━━━━━━━━━\u001b[0m\u001b[37m\u001b[0m \u001b[1m53s\u001b[0m 75ms/step - accuracy: 0.9504 - loss: 0.1597 - val_accuracy: 0.9764 - val_loss: 0.0772\n",
      "Epoch 3/20\n",
      "\u001b[1m700/700\u001b[0m \u001b[32m━━━━━━━━━━━━━━━━━━━━\u001b[0m\u001b[37m\u001b[0m \u001b[1m82s\u001b[0m 76ms/step - accuracy: 0.9651 - loss: 0.1124 - val_accuracy: 0.9794 - val_loss: 0.0663\n",
      "Epoch 4/20\n",
      "\u001b[1m700/700\u001b[0m \u001b[32m━━━━━━━━━━━━━━━━━━━━\u001b[0m\u001b[37m\u001b[0m \u001b[1m53s\u001b[0m 75ms/step - accuracy: 0.9715 - loss: 0.0929 - val_accuracy: 0.9853 - val_loss: 0.0493\n",
      "Epoch 5/20\n",
      "\u001b[1m700/700\u001b[0m \u001b[32m━━━━━━━━━━━━━━━━━━━━\u001b[0m\u001b[37m\u001b[0m \u001b[1m82s\u001b[0m 76ms/step - accuracy: 0.9738 - loss: 0.0827 - val_accuracy: 0.9846 - val_loss: 0.0499\n",
      "Epoch 6/20\n",
      "\u001b[1m700/700\u001b[0m \u001b[32m━━━━━━━━━━━━━━━━━━━━\u001b[0m\u001b[37m\u001b[0m \u001b[1m82s\u001b[0m 76ms/step - accuracy: 0.9777 - loss: 0.0705 - val_accuracy: 0.9868 - val_loss: 0.0452\n",
      "Epoch 7/20\n",
      "\u001b[1m700/700\u001b[0m \u001b[32m━━━━━━━━━━━━━━━━━━━━\u001b[0m\u001b[37m\u001b[0m \u001b[1m81s\u001b[0m 75ms/step - accuracy: 0.9791 - loss: 0.0662 - val_accuracy: 0.9874 - val_loss: 0.0424\n",
      "Epoch 8/20\n",
      "\u001b[1m700/700\u001b[0m \u001b[32m━━━━━━━━━━━━━━━━━━━━\u001b[0m\u001b[37m\u001b[0m \u001b[1m82s\u001b[0m 74ms/step - accuracy: 0.9817 - loss: 0.0584 - val_accuracy: 0.9872 - val_loss: 0.0425\n",
      "Epoch 9/20\n",
      "\u001b[1m700/700\u001b[0m \u001b[32m━━━━━━━━━━━━━━━━━━━━\u001b[0m\u001b[37m\u001b[0m \u001b[1m87s\u001b[0m 81ms/step - accuracy: 0.9821 - loss: 0.0539 - val_accuracy: 0.9884 - val_loss: 0.0394\n",
      "Epoch 10/20\n",
      "\u001b[1m700/700\u001b[0m \u001b[32m━━━━━━━━━━━━━━━━━━━━\u001b[0m\u001b[37m\u001b[0m \u001b[1m83s\u001b[0m 83ms/step - accuracy: 0.9844 - loss: 0.0503 - val_accuracy: 0.9889 - val_loss: 0.0398\n",
      "Epoch 11/20\n",
      "\u001b[1m700/700\u001b[0m \u001b[32m━━━━━━━━━━━━━━━━━━━━\u001b[0m\u001b[37m\u001b[0m \u001b[1m77s\u001b[0m 76ms/step - accuracy: 0.9834 - loss: 0.0494 - val_accuracy: 0.9878 - val_loss: 0.0425\n",
      "Epoch 12/20\n",
      "\u001b[1m700/700\u001b[0m \u001b[32m━━━━━━━━━━━━━━━━━━━━\u001b[0m\u001b[37m\u001b[0m \u001b[1m81s\u001b[0m 75ms/step - accuracy: 0.9843 - loss: 0.0470 - val_accuracy: 0.9887 - val_loss: 0.0387\n",
      "Epoch 13/20\n",
      "\u001b[1m700/700\u001b[0m \u001b[32m━━━━━━━━━━━━━━━━━━━━\u001b[0m\u001b[37m\u001b[0m \u001b[1m82s\u001b[0m 75ms/step - accuracy: 0.9858 - loss: 0.0442 - val_accuracy: 0.9883 - val_loss: 0.0406\n",
      "Epoch 14/20\n",
      "\u001b[1m700/700\u001b[0m \u001b[32m━━━━━━━━━━━━━━━━━━━━\u001b[0m\u001b[37m\u001b[0m \u001b[1m81s\u001b[0m 74ms/step - accuracy: 0.9855 - loss: 0.0445 - val_accuracy: 0.9892 - val_loss: 0.0379\n",
      "Epoch 15/20\n",
      "\u001b[1m700/700\u001b[0m \u001b[32m━━━━━━━━━━━━━━━━━━━━\u001b[0m\u001b[37m\u001b[0m \u001b[1m82s\u001b[0m 74ms/step - accuracy: 0.9864 - loss: 0.0415 - val_accuracy: 0.9889 - val_loss: 0.0375\n",
      "Epoch 16/20\n",
      "\u001b[1m700/700\u001b[0m \u001b[32m━━━━━━━━━━━━━━━━━━━━\u001b[0m\u001b[37m\u001b[0m \u001b[1m82s\u001b[0m 74ms/step - accuracy: 0.9868 - loss: 0.0380 - val_accuracy: 0.9883 - val_loss: 0.0409\n",
      "Epoch 17/20\n",
      "\u001b[1m700/700\u001b[0m \u001b[32m━━━━━━━━━━━━━━━━━━━━\u001b[0m\u001b[37m\u001b[0m \u001b[1m50s\u001b[0m 72ms/step - accuracy: 0.9867 - loss: 0.0393 - val_accuracy: 0.9903 - val_loss: 0.0342\n",
      "Epoch 18/20\n",
      "\u001b[1m700/700\u001b[0m \u001b[32m━━━━━━━━━━━━━━━━━━━━\u001b[0m\u001b[37m\u001b[0m \u001b[1m83s\u001b[0m 73ms/step - accuracy: 0.9869 - loss: 0.0396 - val_accuracy: 0.9898 - val_loss: 0.0362\n",
      "Epoch 19/20\n",
      "\u001b[1m700/700\u001b[0m \u001b[32m━━━━━━━━━━━━━━━━━━━━\u001b[0m\u001b[37m\u001b[0m \u001b[1m50s\u001b[0m 71ms/step - accuracy: 0.9883 - loss: 0.0327 - val_accuracy: 0.9901 - val_loss: 0.0376\n",
      "Epoch 20/20\n",
      "\u001b[1m299/700\u001b[0m \u001b[32m━━━━━━━━\u001b[0m\u001b[37m━━━━━━━━━━━━\u001b[0m \u001b[1m27s\u001b[0m 69ms/step - accuracy: 0.9868 - loss: 0.0393"
     ]
    }
   ],
   "source": [
    "# Train the model using the training data (x_train, y_train) for 20 epochs with specific batch size and validation split.\n",
    "model_log=model.fit(x_train, y_train,\n",
    "          batch_size=60,\n",
    "          epochs=20,\n",
    "          verbose=1,\n",
    "          validation_split=.3)"
   ]
  },
  {
   "cell_type": "code",
   "execution_count": null,
   "metadata": {
    "id": "zzwFE1skoh2v"
   },
   "outputs": [],
   "source": [
    "# Evaluate the model on test set\n",
    "score = model.evaluate(x_test, y_test, verbose=0)\n",
    "# Print test accuracy\n",
    "print('\\n', 'Test accuracy:', score[1])"
   ]
  },
  {
   "cell_type": "code",
   "execution_count": null,
   "metadata": {
    "id": "vQWHg6Mdoh5e"
   },
   "outputs": [],
   "source": [
    "# Make predictions on the test set using the trained model.\n",
    "predictions = model.predict(x_test)\n",
    "# Access the predicted class probabilities for the first test image.\n",
    "predictions[1]"
   ]
  },
  {
   "cell_type": "code",
   "execution_count": null,
   "metadata": {
    "id": "Jd64bgPdoRjc"
   },
   "outputs": [],
   "source": [
    "# Find the index of the highest predicted probability for the first test image.\n",
    "np.argmax(predictions[1])"
   ]
  },
  {
   "cell_type": "code",
   "execution_count": null,
   "metadata": {
    "id": "4VkCowgtyBHb"
   },
   "outputs": [],
   "source": [
    "# Reshape the test data to have a shape of (num_samples, 28, 28), removing the channel dimension.\n",
    "x_test = x_test.reshape(-1,28, 28)\n",
    "# Check the new shape of the test data after reshaping.\n",
    "x_test.shape"
   ]
  },
  {
   "cell_type": "code",
   "execution_count": null,
   "metadata": {
    "id": "w3dmpDEwyCn6"
   },
   "outputs": [],
   "source": [
    "# Show one of the images from the test dataset\n",
    "# Remove x-axis tick marks for cleaner visualization\n",
    "plt.xticks([])\n",
    "# Remove y-axis tick marks for cleaner visualization\n",
    "plt.yticks([])\n",
    "# Label the image with the true label of the first test image (from y_train)\n",
    "plt.xlabel([y_train[0]]).\n",
    "# Display the first image from x_test in grayscale (binary colormap)\n",
    "plt.imshow(x_test[0],cmap=plt.cm.binary)"
   ]
  },
  {
   "cell_type": "code",
   "execution_count": 43,
   "metadata": {
    "colab": {
     "base_uri": "https://localhost:8080/",
     "height": 486
    },
    "id": "DMB7Uv72yERz",
    "outputId": "57ba8dee-c9d1-4ffa-ad16-81ec2785c982"
   },
   "outputs": [
    {
     "data": {
      "image/png": "[encoded data removed]",
      "text/plain": [
       "<Figure size 640x480 with 2 Axes>"
      ]
     },
     "metadata": {},
     "output_type": "display_data"
    }
   ],
   "source": [
    "import os\n",
    "# plotting the metrics\n",
    "# Create a new figure for plotting\n",
    "# Plotting accuracy\n",
    "fig = plt.figure()\n",
    "# Create the first subplot (2 rows, 1 column, first subplot)\n",
    "plt.subplot(2,1,1)\n",
    "# Plot training accuracy over epochs\n",
    "plt.plot(model_log.history['accuracy'])\n",
    "# Plot validation accuracy over epochs\n",
    "plt.plot(model_log.history['val_accuracy'])\n",
    "# Title for the accuracy plot\n",
    "plt.title('model accuracy')\n",
    "# Label for the y-axis (accuracy)\n",
    "plt.ylabel('accuracy')\n",
    "# Label for the x-axis (epoch)\n",
    "plt.xlabel('epoch')\n",
    "# Add a legend to distinguish train vs test\n",
    "plt.legend(['train', 'test'], loc='lower right')\n",
    "\n",
    "# Plotting loss\n",
    "# Create the second subplot (2 rows, 1 column, second subplot)\n",
    "plt.subplot(2,1,2)\n",
    "# Plot training loss over epochs\n",
    "plt.plot(model_log.history['loss'])\n",
    "# Plot validation loss over epochs\n",
    "plt.plot(model_log.history['val_loss'])\n",
    "# Title for the loss plot\n",
    "plt.title('model loss')\n",
    "# Label for the y-axis (loss)\n",
    "plt.ylabel('loss')\n",
    "# Label for the x-axis (epoch)\n",
    "plt.xlabel('epoch')\n",
    "# Add a legend to distinguish train vs test\n",
    "plt.legend(['train', 'test'], loc='upper right')\n",
    "# Automatically adjust subplot parameters for better layout\n",
    "plt.tight_layout()\n"
   ]
  },
  {
   "cell_type": "code",
   "execution_count": 44,
   "metadata": {
    "id": "Ziz6v8C_2L3e"
   },
   "outputs": [],
   "source": [
    "# Function to plot a single image from the test set with its predicted and true labels\n",
    "def plot_image(i, predictions_array, true_label, img):\n",
    "  # Extract the i-th prediction, true label, and image from the provided arrays\n",
    "  predictions_array, true_label, img = predictions_array[i], true_label[i], img[i]\n",
    "  # Remove the grid for better visualization of the image\n",
    "  plt.grid(False)\n",
    "  # Remove x-axis tick marks\n",
    "  plt.xticks([])\n",
    "  # Remove y-axis tick marks\n",
    "  plt.yticks([])\n",
    "  # Display the image in grayscale (binary colormap)\n",
    "  plt.imshow(img, cmap=plt.cm.binary)\n",
    "  # Get the predicted label (index of max probability)\n",
    "  predicted_label = np.argmax(predictions_array)\n",
    "  # Correct prediction, color the label blue\n",
    "  if predicted_label == true_label:\n",
    "    color = 'blue'\n",
    "  # Incorrect prediction, color the label red\n",
    "  else:\n",
    "    color = 'red'\n",
    "  # Add a label with the predicted label, predicted probability, and true label\n",
    "  plt.xlabel(\"{} {:2.0f}% ({})\".format([predicted_label],100*np.max(predictions_array),[true_label]),color=color) # Color the label based on whether prediction is correct or not\n",
    "\n",
    "# Function to plot a bar chart of predicted probabilities for each class (digit)\n",
    "def plot_value_array(i, predictions_array, true_label):\n",
    "  # Extract the i-th prediction array and true label\n",
    "  predictions_array, true_label = predictions_array[i], true_label[i]\n",
    "  # Disable grid lines for cleaner visualization\n",
    "  plt.grid(False)\n",
    "  # Remove x-axis tick marks\n",
    "  plt.xticks([])\n",
    "  # Remove y-axis tick marks\n",
    "  plt.yticks([])\n",
    "  # Plot a bar chart for all class probabilities\n",
    "  thisplot = plt.bar(range(10), predictions_array, color=\"#777777\")\n",
    "  # Set the y-axis limits to 0 and 1 (probabilities)\n",
    "  plt.ylim([0, 1])\n",
    "  # Get the predicted label (index of max probability)\n",
    "  predicted_label = np.argmax(predictions_array)\n",
    "  # Highlight the predicted label in red\n",
    "  thisplot[predicted_label].set_color('red')\n",
    "  # Highlight the predicted label in red\n",
    "  thisplot[true_label].set_color('blue')"
   ]
  },
  {
   "cell_type": "code",
   "execution_count": 45,
   "metadata": {
    "colab": {
     "base_uri": "https://localhost:8080/",
     "height": 826
    },
    "id": "iEnlyC-byjTD",
    "outputId": "3536504d-d3a1-4117-8cdd-9eccf35c0aab"
   },
   "outputs": [
    {
     "data": {
      "image/png": "[encoded data removed]",
      "text/plain": [
       "<Figure size 1200x1000 with 30 Axes>"
      ]
     },
     "metadata": {},
     "output_type": "display_data"
    }
   ],
   "source": [
    "# Plot the first X test images, their predicted label, and the true label\n",
    "# Color correct predictions in blue, incorrect predictions in red\n",
    "# Set the number of rows for the plot grid\n",
    "num_rows = 5\n",
    "# Set the number of columns for the plot grid\n",
    "num_cols = 3\n",
    "# Total number of images to display\n",
    "num_images = num_rows*num_cols\n",
    "# Create a figure to hold the subplots with a specific size\n",
    "plt.figure(figsize=(2*2*num_cols, 2*num_rows))\n",
    "# Loop through the first 'num_images' images\n",
    "for i in range(num_images):\n",
    "  # Create a subplot for the image and prediction\n",
    "  # 2*i+1 selects the odd subplots (left column)\n",
    "  plt.subplot(num_rows, 2*num_cols, 2*i+1)\n",
    "  # Call the function to plot the image and labels\n",
    "  plot_image(i, predictions, y_test, x_test)\n",
    "\n",
    "  # Create a subplot for the prediction probabilities\n",
    "  # 2*i+2 selects the even subplots (right column)\n",
    "  plt.subplot(num_rows, 2*num_cols, 2*i+2)\n",
    "  # Call the function to plot the value array (probabilities)\n",
    "  plot_value_array(i, predictions, y_test)\n",
    "# Display all the plots\n",
    "plt.show()"
   ]
  },
  {
   "cell_type": "code",
   "execution_count": 46,
   "metadata": {
    "colab": {
     "base_uri": "https://localhost:8080/"
    },
    "id": "I32nSDllymRh",
    "outputId": "3f1f7959-364b-4a78-b328-6db1207b9f6b"
   },
   "outputs": [
    {
     "name": "stdout",
     "output_type": "stream",
     "text": [
      "---------------------------------- END ------------------------------\n"
     ]
    }
   ],
   "source": [
    "print('---------------------------------- END ------------------------------')"
   ]
  }
 ],
 "metadata": {
  "colab": {
   "provenance": []
  },
  "kernelspec": {
   "display_name": "Python 3 (ipykernel)",
   "language": "python",
   "name": "python3"
  },
  "language_info": {
   "codemirror_mode": {
    "name": "ipython",
    "version": 3
   },
   "file_extension": ".py",
   "mimetype": "text/x-python",
   "name": "python",
   "nbconvert_exporter": "python",
   "pygments_lexer": "ipython3",
   "version": "3.11.7"
  }
 },
 "nbformat": 4,
 "nbformat_minor": 4
}
